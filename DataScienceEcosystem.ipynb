{
 "cells": [
  {
   "cell_type": "markdown",
   "id": "a1544183-518f-42a3-935e-10e4edeb5b06",
   "metadata": {},
   "source": [
    "# H1: Data Science Toold and Ecosystems "
   ]
  },
  {
   "cell_type": "markdown",
   "id": "9cb55ca1-6519-430a-856f-09db0b08c8cd",
   "metadata": {
    "jp-MarkdownHeadingCollapsed": true
   },
   "source": [
    "In this notebook, Data Science Tools and Ecosystem are summarized."
   ]
  },
  {
   "cell_type": "markdown",
   "id": "61455ffc-efb2-4c81-be4b-e5346e981661",
   "metadata": {},
   "source": [
    "Some of the popular languages that Data Scientists use are:\n",
    "1. Python\n",
    "2. R\n",
    "3. SQL\n",
    "4. Julia\n",
    "5. Scala\n",
    "6. Java\n",
    "7. JavaScript\n",
    "8. Go"
   ]
  },
  {
   "cell_type": "markdown",
   "id": "5c88f23c-01e7-4b76-b52c-2dad1570a22c",
   "metadata": {},
   "source": [
    "Some of the commonly used libraries used by Data Scientists include:\n",
    "1. NumPy\n",
    "2. Matplotlib\n",
    "3. Pandas\n",
    "4. SciPy\n",
    "5. Seaborn"
   ]
  },
  {
   "cell_type": "markdown",
   "id": "ddd5d31f-88aa-4fc4-919e-b3e9e74e98a8",
   "metadata": {},
   "source": [
    "| Data Science Tools |\n",
    "|--------------------|\n",
    "| Project Jupyter |\n",
    "| Apache Spark |\n",
    "| Hadoop |"
   ]
  },
  {
   "cell_type": "markdown",
   "id": "079566c5-246d-4704-a3d1-9f7ddeff5a71",
   "metadata": {},
   "source": [
    "# H3: Below are a few examples of evaluating arithmetic expressions in Python"
   ]
  },
  {
   "cell_type": "code",
   "execution_count": 17,
   "id": "94ccc149-2864-4ec4-acdc-6a7c8c1f4af8",
   "metadata": {},
   "outputs": [
    {
     "data": {
      "text/plain": [
       "17"
      ]
     },
     "execution_count": 17,
     "metadata": {},
     "output_type": "execute_result"
    }
   ],
   "source": [
    "##  This a simple arithmetic expression to mutiply then add integers\n",
    "(3*4)+5"
   ]
  },
  {
   "cell_type": "code",
   "execution_count": 35,
   "id": "6204b326-0b16-411e-8932-672ac1c65eb6",
   "metadata": {},
   "outputs": [
    {
     "name": "stdout",
     "output_type": "stream",
     "text": [
      "200 minutes =  3 hours & 20 minutes\n"
     ]
    }
   ],
   "source": [
    "##  This will convert 200 minutes to hours by diving by 60\n",
    "minutes = 200\n",
    "hours = minutes//60\n",
    "m = minutes%60\n",
    "print (minutes, \"minutes = \", hours, \"hours &\",m, \"minutes\")"
   ]
  },
  {
   "cell_type": "markdown",
   "id": "890845b1-13e6-45d5-baee-c716c3ab3ab8",
   "metadata": {},
   "source": [
    "Objectives:\n",
    "- Summary of Data Science Tools and Ecosystem\n",
    "- Popular languages used by Data Scientists\n",
    "- Commonly used libraries by Data Scientists\n",
    "- List some Data Science tools\n",
    "- Evaluating some arithmetic expressions in Python"
   ]
  },
  {
   "cell_type": "markdown",
   "id": "57ef14c4-940a-4bc7-bdff-39276abf167f",
   "metadata": {},
   "source": [
    "# H2: Author:\n",
    "Lidia Cimpoaca"
   ]
  },
  {
   "cell_type": "code",
   "execution_count": null,
   "id": "a15f6ba6-a050-4ae3-8e13-0fa76e7d93e2",
   "metadata": {},
   "outputs": [],
   "source": []
  }
 ],
 "metadata": {
  "kernelspec": {
   "display_name": "Python 3 (ipykernel)",
   "language": "python",
   "name": "python3"
  },
  "language_info": {
   "codemirror_mode": {
    "name": "ipython",
    "version": 3
   },
   "file_extension": ".py",
   "mimetype": "text/x-python",
   "name": "python",
   "nbconvert_exporter": "python",
   "pygments_lexer": "ipython3",
   "version": "3.12.4"
  }
 },
 "nbformat": 4,
 "nbformat_minor": 5
}
